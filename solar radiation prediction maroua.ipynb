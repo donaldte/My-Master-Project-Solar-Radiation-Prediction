{
 "cells": [
  {
   "cell_type": "code",
   "execution_count": 1,
   "id": "9008c1f2",
   "metadata": {},
   "outputs": [],
   "source": [
    "import numpy as np\n",
    "import pandas as pd\n",
    "import matplotlib.pyplot as plt\n",
    "from sklearn.preprocessing import StandardScaler\n",
    "from sklearn.metrics import mean_squared_error, r2_score"
   ]
  },
  {
   "cell_type": "code",
   "execution_count": 2,
   "id": "5a54333c",
   "metadata": {},
   "outputs": [],
   "source": [
    "# Read the CSV file skipping the first 20 rows\n",
    "df = pd.read_csv(r'C:\\Users\\ENG.TEDOM\\Documents\\master defend\\dataset\\Maroua_Hour_1980-01-01_2020-12-31_543627210.csv', skiprows=24)\n",
    "\n",
    "# Save the DataFrame to a new CSV file\n",
    "df.to_csv('maroua.csv', index=False)"
   ]
  },
  {
   "cell_type": "code",
   "execution_count": 3,
   "id": "1b390517",
   "metadata": {},
   "outputs": [
    {
     "data": {
      "text/html": [
       "<div>\n",
       "<style scoped>\n",
       "    .dataframe tbody tr th:only-of-type {\n",
       "        vertical-align: middle;\n",
       "    }\n",
       "\n",
       "    .dataframe tbody tr th {\n",
       "        vertical-align: top;\n",
       "    }\n",
       "\n",
       "    .dataframe thead th {\n",
       "        text-align: right;\n",
       "    }\n",
       "</style>\n",
       "<table border=\"1\" class=\"dataframe\">\n",
       "  <thead>\n",
       "    <tr style=\"text-align: right;\">\n",
       "      <th></th>\n",
       "      <th>Date</th>\n",
       "      <th>UT time</th>\n",
       "      <th>Temperature</th>\n",
       "      <th>Relative Humidity</th>\n",
       "      <th>Pressure</th>\n",
       "      <th>Wind speed</th>\n",
       "      <th>Wind direction</th>\n",
       "      <th>Rainfall</th>\n",
       "      <th>Snowfall</th>\n",
       "      <th>Snow depth</th>\n",
       "      <th>Short-wave irradiation</th>\n",
       "    </tr>\n",
       "  </thead>\n",
       "  <tbody>\n",
       "    <tr>\n",
       "      <th>0</th>\n",
       "      <td>1980-01-01</td>\n",
       "      <td>01:00</td>\n",
       "      <td>293.23</td>\n",
       "      <td>25.33</td>\n",
       "      <td>963.18</td>\n",
       "      <td>4.93</td>\n",
       "      <td>349.55</td>\n",
       "      <td>0.0</td>\n",
       "      <td>0.0</td>\n",
       "      <td>0.0</td>\n",
       "      <td>0.0</td>\n",
       "    </tr>\n",
       "    <tr>\n",
       "      <th>1</th>\n",
       "      <td>1980-01-01</td>\n",
       "      <td>02:00</td>\n",
       "      <td>292.54</td>\n",
       "      <td>26.56</td>\n",
       "      <td>962.91</td>\n",
       "      <td>4.70</td>\n",
       "      <td>351.43</td>\n",
       "      <td>0.0</td>\n",
       "      <td>0.0</td>\n",
       "      <td>0.0</td>\n",
       "      <td>0.0</td>\n",
       "    </tr>\n",
       "    <tr>\n",
       "      <th>2</th>\n",
       "      <td>1980-01-01</td>\n",
       "      <td>03:00</td>\n",
       "      <td>291.81</td>\n",
       "      <td>28.10</td>\n",
       "      <td>962.98</td>\n",
       "      <td>4.42</td>\n",
       "      <td>353.77</td>\n",
       "      <td>0.0</td>\n",
       "      <td>0.0</td>\n",
       "      <td>0.0</td>\n",
       "      <td>0.0</td>\n",
       "    </tr>\n",
       "    <tr>\n",
       "      <th>3</th>\n",
       "      <td>1980-01-01</td>\n",
       "      <td>04:00</td>\n",
       "      <td>291.16</td>\n",
       "      <td>29.71</td>\n",
       "      <td>963.50</td>\n",
       "      <td>4.32</td>\n",
       "      <td>358.58</td>\n",
       "      <td>0.0</td>\n",
       "      <td>0.0</td>\n",
       "      <td>0.0</td>\n",
       "      <td>0.0</td>\n",
       "    </tr>\n",
       "    <tr>\n",
       "      <th>4</th>\n",
       "      <td>1980-01-01</td>\n",
       "      <td>05:00</td>\n",
       "      <td>290.48</td>\n",
       "      <td>31.57</td>\n",
       "      <td>964.17</td>\n",
       "      <td>4.16</td>\n",
       "      <td>3.22</td>\n",
       "      <td>0.0</td>\n",
       "      <td>0.0</td>\n",
       "      <td>0.0</td>\n",
       "      <td>0.0</td>\n",
       "    </tr>\n",
       "  </tbody>\n",
       "</table>\n",
       "</div>"
      ],
      "text/plain": [
       "         Date UT time  Temperature  Relative Humidity  Pressure  Wind speed  \\\n",
       "0  1980-01-01   01:00       293.23              25.33    963.18        4.93   \n",
       "1  1980-01-01   02:00       292.54              26.56    962.91        4.70   \n",
       "2  1980-01-01   03:00       291.81              28.10    962.98        4.42   \n",
       "3  1980-01-01   04:00       291.16              29.71    963.50        4.32   \n",
       "4  1980-01-01   05:00       290.48              31.57    964.17        4.16   \n",
       "\n",
       "   Wind direction  Rainfall  Snowfall  Snow depth  Short-wave irradiation  \n",
       "0          349.55       0.0       0.0         0.0                     0.0  \n",
       "1          351.43       0.0       0.0         0.0                     0.0  \n",
       "2          353.77       0.0       0.0         0.0                     0.0  \n",
       "3          358.58       0.0       0.0         0.0                     0.0  \n",
       "4            3.22       0.0       0.0         0.0                     0.0  "
      ]
     },
     "execution_count": 3,
     "metadata": {},
     "output_type": "execute_result"
    }
   ],
   "source": [
    "df = pd.read_csv('maroua.csv', sep=';', header=0)\n",
    "# Rename the first column by removing the '#' character\n",
    "df.rename(columns={df.columns[0]: df.columns[0].lstrip(' #')}, inplace=True)\n",
    "df.head()"
   ]
  },
  {
   "cell_type": "markdown",
   "id": "43937ad6",
   "metadata": {},
   "source": [
    "## Check for null values in each column"
   ]
  },
  {
   "cell_type": "code",
   "execution_count": 4,
   "id": "6d16d136",
   "metadata": {},
   "outputs": [
    {
     "name": "stdout",
     "output_type": "stream",
     "text": [
      "Null values in each column:\n",
      " Date                      False\n",
      "UT time                   False\n",
      "Temperature               False\n",
      "Relative Humidity         False\n",
      "Pressure                  False\n",
      "Wind speed                False\n",
      "Wind direction            False\n",
      "Rainfall                  False\n",
      "Snowfall                  False\n",
      "Snow depth                False\n",
      "Short-wave irradiation    False\n",
      "dtype: bool\n",
      "\n",
      "Null values in the entire DataFrame: False\n"
     ]
    }
   ],
   "source": [
    "# Check for null values in each column\n",
    "null_columns = df.isna().any()\n",
    "\n",
    "# Check for null values in the entire DataFrame\n",
    "null_dataframe = df.isna().any().any()\n",
    "\n",
    "# Display the results\n",
    "print(\"Null values in each column:\\n\", null_columns)\n",
    "print(\"\\nNull values in the entire DataFrame:\", null_dataframe)"
   ]
  },
  {
   "cell_type": "code",
   "execution_count": null,
   "id": "82847bd8",
   "metadata": {},
   "outputs": [],
   "source": []
  }
 ],
 "metadata": {
  "kernelspec": {
   "display_name": "Python 3 (ipykernel)",
   "language": "python",
   "name": "python3"
  },
  "language_info": {
   "codemirror_mode": {
    "name": "ipython",
    "version": 3
   },
   "file_extension": ".py",
   "mimetype": "text/x-python",
   "name": "python",
   "nbconvert_exporter": "python",
   "pygments_lexer": "ipython3",
   "version": "3.9.16"
  }
 },
 "nbformat": 4,
 "nbformat_minor": 5
}
